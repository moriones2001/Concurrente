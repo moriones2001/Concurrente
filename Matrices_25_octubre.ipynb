{
 "cells": [
  {
   "cell_type": "markdown",
   "id": "64b44f4d-5ccd-431e-a221-c094a58ed192",
   "metadata": {},
   "source": [
    "<!-- PROFILE LINK -->\n",
    "\n",
    "<h1 style = \"text-align:center; font-size: 30px\">PROGRAMACIÓN CONCURRENTE Y DISTRIBUIDA</h1>\n",
    "<a href =\"https://github.com/moriones2001\">\n",
    "<img src=\"https://avatars.githubusercontent.com/u/100123414?v=4\" style=\"float:left;vertical-align:centre\" width=\"110\" height=\"110\" title = \"Iván García Moriones 21907762\">\n",
    "<a href =\"https://github.com/moriones2001?tab=repositories\">\n",
    "<img src=\"https://media-exp1.licdn.com/dms/image/C4D0BAQEu_Aa76fcmPw/company-logo_200_200/0/1630998679429?e=2159024400&v=beta&t=2feC9GG7RWCWizTqsK5HzDWB1TL2DOQuAVwnMf6FFvk\" title = \"M41\" alt=\"UE\" width=\"110\" height=\"110\" style=\"float:right;vertical-align:centre\">"
   ]
  },
  {
   "cell_type": "code",
   "execution_count": 4,
   "id": "fcec140a-9a0b-469c-9d65-3e6707623f75",
   "metadata": {},
   "outputs": [],
   "source": [
    "import multiprocessing as mp"
   ]
  },
  {
   "cell_type": "code",
   "execution_count": 5,
   "id": "6be83e34-8765-4b66-9d5c-cc03d5105090",
   "metadata": {},
   "outputs": [],
   "source": [
    "import math"
   ]
  },
  {
   "cell_type": "code",
   "execution_count": 6,
   "id": "afd01851-0a1a-4553-a2e6-b82b546a5ee5",
   "metadata": {},
   "outputs": [],
   "source": [
    "import random"
   ]
  },
  {
   "cell_type": "code",
   "execution_count": 7,
   "id": "893f08a3-1e12-4432-8f2e-a93d656273ee",
   "metadata": {},
   "outputs": [],
   "source": [
    "import time"
   ]
  },
  {
   "cell_type": "code",
   "execution_count": 26,
   "id": "d81f25a3-7287-4a68-b7ab-fe98d558b4d9",
   "metadata": {},
   "outputs": [],
   "source": [
    "def sec_mult (A,B):\n",
    "    C = [[0]*n_col_B for i in range (n_fila_A)]\n",
    "    for i in range (n_fil_A):\n",
    "        for j in range (n_col_B):\n",
    "            for k in range (n_col_A):\n",
    "                C[i][j] += A[i][k] * B [k][j] \n",
    "    return C\n",
    "            "
   ]
  },
  {
   "cell_type": "code",
   "execution_count": 12,
   "id": "d886ef7f-3496-483c-8a71-3a0c4ea969fc",
   "metadata": {},
   "outputs": [],
   "source": [
    "def par_mult (A,B):\n",
    "    n_cores = mp.cpu_Count()\n",
    "    size_col = math.ceil(n_col_B/n_cores)\n",
    "    size_fil = math.ceil(n_fil_A/n_cores)\n",
    "    MC = mp.RawArray('i',n_fil_A * n_col_B)\n",
    "    cores = []\n",
    "    for core in range (n_cores):\n",
    "        i_MC = min(core*size_fil,n_fil_A)\n",
    "        f_MC = min ((core+1)*size_fil,n_fil_A)\n",
    "        cores.append(mp.Process(target=par_core, args = (A,B,MC,i_MC, f_MC)))\n",
    "    for core in cores:\n",
    "        core.start()\n",
    "    for core in cores:\n",
    "        core.join()\n",
    "    C_2D = [[0] * n_col_B for i in range (n_fil_A)]\n",
    "    for i in range(n_fil_A):\n",
    "        for j in range (n_col_B):\n",
    "            C_2D[illj] = MCli*n_col_B + jl\n",
    "    return C_2D   \n",
    "            "
   ]
  },
  {
   "cell_type": "code",
   "execution_count": 19,
   "id": "d5ed54c8-5a24-4c23-956e-55ff7f1a2909",
   "metadata": {},
   "outputs": [],
   "source": [
    "def par_core (A,B,MC,i_M, f_MC):\n",
    "    for i in range (i_MC, f_MC):\n",
    "        for j in range (len(B[0])):\n",
    "            for k in range (len(A[0])):\n",
    "                MC[i*len(B[0]) + j] += A[i][k] * B [k][j]\n",
    "    "
   ]
  },
  {
   "cell_type": "code",
   "execution_count": 29,
   "id": "ca3d1872-b877-4dea-a978-63f1c060ec4b",
   "metadata": {},
   "outputs": [],
   "source": [
    "if __name__ == '__name__':\n",
    "    A = [[random.randint (0,215) for i in range (6)] for j in range (200)]\n",
    "    B = [[random.randint (0,215) for i in range (200)]for j in range (6)]\n",
    "    n_fil_A = len (A)\n",
    "    n_col_A = len (A[0])\n",
    "    n_fil_B = len (B)\n",
    "    n_col_B = len (B[0])\n",
    "    if n_col_A != n_fil_B: raise Exception ('Dimensiones no válidas')\n",
    "    inicioS = time.time()\n",
    "    sec_mult (A,B)\n",
    "    finS = time.time\n",
    "    inicioP = time.time()\n",
    "    par_mult(A,B)\n",
    "    finP = time.time()\n",
    "    print ('\\n\\nMatriz A y B se han multiplicado con EXITO en Secuencial, ha tardado:', finS-inicioS, ' y en PARALELO:' ,finP-inicioP)\n",
    "    "
   ]
  },
  {
   "cell_type": "code",
   "execution_count": null,
   "id": "b1f7ce60-bc9a-41c1-8b72-79b77531b467",
   "metadata": {},
   "outputs": [],
   "source": []
  }
 ],
 "metadata": {
  "kernelspec": {
   "display_name": "Python 3 (ipykernel)",
   "language": "python",
   "name": "python3"
  },
  "language_info": {
   "codemirror_mode": {
    "name": "ipython",
    "version": 3
   },
   "file_extension": ".py",
   "mimetype": "text/x-python",
   "name": "python",
   "nbconvert_exporter": "python",
   "pygments_lexer": "ipython3",
   "version": "3.10.7"
  }
 },
 "nbformat": 4,
 "nbformat_minor": 5
}
