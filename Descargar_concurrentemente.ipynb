{
 "cells": [
  {
   "cell_type": "markdown",
   "id": "8e8d78eb-6f38-43f6-b8a8-b25407a073d8",
   "metadata": {},
   "source": [
    "## Descargas (11 de octubre)"
   ]
  },
  {
   "cell_type": "code",
   "execution_count": 6,
   "id": "fdfba52c-07d2-418c-88db-b8ca122adbb1",
   "metadata": {},
   "outputs": [],
   "source": [
    "import time,urllib.request, multiprocessing as mp, concurrent.futures "
   ]
  },
  {
   "cell_type": "code",
   "execution_count": 11,
   "id": "f52c9abe-fefe-49e5-97bd-f50b5e0b021f",
   "metadata": {},
   "outputs": [],
   "source": [
    "def seq_download_images (img_numbers):\n",
    "    total_bytes = 0\n",
    "    for num in img_numbers:\n",
    "        total_bytes += _download_image(num)\n",
    "    return total_bytes"
   ]
  },
  {
   "cell_type": "code",
   "execution_count": 15,
   "id": "0e5fdc9f-3b0e-4ac9-8f0e-3dbd08f3888d",
   "metadata": {},
   "outputs": [],
   "source": [
    "def _download_image (image_number):\n",
    "    print (image_number)\n",
    "    image_url = 'http://699340.youcanlearnit.net/image{:03d}.jpg'.format(image_number)\n",
    "    try:\n",
    "        with urllib.request.urlopen(image_url,timeout=60) as conn:\n",
    "            return len (conn.read())\n",
    "    except urllib.error.HTTPError:\n",
    "        print ('Oh god', image_number)\n",
    "    except Exception as e:\n",
    "        print(e)"
   ]
  },
  {
   "cell_type": "code",
   "execution_count": 4,
   "id": "ef3c26a4-b4b6-4e17-85a0-b91ef42df2c7",
   "metadata": {},
   "outputs": [],
   "source": [
    "def par_download_images(image_numbers):\n",
    "    total_bytes=0\n",
    "    with concurrent.futures.ThreadPoolExecutor() as pool:\n",
    "        futures=[pool.submit(_download_image,num) for num in image_numbers]\n",
    "        for f in concurrent.futures.as_completed(futures):\n",
    "            total_bytes+=f.result()\n",
    "    return total_bytes\n",
    "        "
   ]
  },
  {
   "cell_type": "code",
   "execution_count": 17,
   "id": "d58f9f0f-3783-42a1-9833-b62bfc8c631e",
   "metadata": {},
   "outputs": [
    {
     "name": "stdout",
     "output_type": "stream",
     "text": [
      "1\n",
      "2\n",
      "3\n",
      "0\n",
      "1\n",
      "2\n",
      "3\n",
      "1\n",
      "1\n",
      "2\n",
      "3\n",
      "2\n",
      "1\n",
      "2\n",
      "3\n",
      "1\n",
      "2\n",
      "3\n",
      "12\n",
      "\n",
      "3\n",
      "1\n",
      "2\n",
      "3\n",
      "1\n",
      "2\n",
      "3\n",
      "Average Sequential Time: 2411.87 ms\n",
      "Average Pararell Time:924.93 ms\n",
      "Speedup: 2.61\n",
      "Efficiency: 32.60%\n"
     ]
    }
   ],
   "source": [
    "if __name__ == '__main__':\n",
    "    NUM_EVAL_RUNS=3\n",
    "    IMAGE_NUMBERS = list (range(1,4))\n",
    "    sequential_result = seq_download_images (IMAGE_NUMBERS)\n",
    "    sequential_time=0\n",
    "    for i in range(NUM_EVAL_RUNS):\n",
    "        print (i)\n",
    "        start = time.perf_counter()\n",
    "        seq_download_images(IMAGE_NUMBERS)\n",
    "        sequential_time += time.perf_counter() - start\n",
    "    sequential_time /= NUM_EVAL_RUNS\n",
    "    pararell_result = par_download_images(IMAGE_NUMBERS)\n",
    "    pararell_time=0\n",
    "    for i in range (NUM_EVAL_RUNS):\n",
    "        start=time.perf_counter()\n",
    "        par_download_images(IMAGE_NUMBERS)\n",
    "        pararell_time += time.perf_counter() -start\n",
    "    pararell_time /= NUM_EVAL_RUNS\n",
    "    \n",
    "    if sequential_result != pararell_result:\n",
    "        raise Exception ('sequential_result and pararell_result do not match.')\n",
    "    print ('Average Sequential Time: {:.2f} ms'.format(sequential_time*1000))\n",
    "    print ('Average Pararell Time:{:.2f} ms'.format(pararell_time*1000))\n",
    "    print ('Speedup: {:.2f}'.format(sequential_time/pararell_time))\n",
    "    print ('Efficiency: {:.2f}%'.format(100*(sequential_time/pararell_time)/mp.cpu_count()))\n",
    "                         \n",
    "                         "
   ]
  },
  {
   "cell_type": "code",
   "execution_count": null,
   "id": "66f0e7fd-4ad7-4fc9-850a-479b60178840",
   "metadata": {},
   "outputs": [],
   "source": []
  }
 ],
 "metadata": {
  "kernelspec": {
   "display_name": "Python 3 (ipykernel)",
   "language": "python",
   "name": "python3"
  },
  "language_info": {
   "codemirror_mode": {
    "name": "ipython",
    "version": 3
   },
   "file_extension": ".py",
   "mimetype": "text/x-python",
   "name": "python",
   "nbconvert_exporter": "python",
   "pygments_lexer": "ipython3",
   "version": "3.10.7"
  }
 },
 "nbformat": 4,
 "nbformat_minor": 5
}
