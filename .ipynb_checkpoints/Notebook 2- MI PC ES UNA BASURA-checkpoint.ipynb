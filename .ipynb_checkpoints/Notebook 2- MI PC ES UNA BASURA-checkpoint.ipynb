{
 "cells": [
  {
   "cell_type": "markdown",
   "id": "fce5b843",
   "metadata": {},
   "source": [
    "## MI PC ES UNA MIERDA?"
   ]
  },
  {
   "cell_type": "code",
   "execution_count": 2,
   "id": "c759da14",
   "metadata": {},
   "outputs": [],
   "source": [
    "import os, platform as pl"
   ]
  },
  {
   "cell_type": "code",
   "execution_count": 3,
   "id": "b08fed77",
   "metadata": {},
   "outputs": [
    {
     "data": {
      "text/plain": [
       "8"
      ]
     },
     "execution_count": 3,
     "metadata": {},
     "output_type": "execute_result"
    }
   ],
   "source": [
    "os.cpu_count()"
   ]
  },
  {
   "cell_type": "code",
   "execution_count": 4,
   "id": "9b92151d",
   "metadata": {},
   "outputs": [
    {
     "data": {
      "text/plain": [
       "uname_result(system='Windows', node='PORTATIL-IVAN', release='10', version='10.0.22000', machine='AMD64')"
      ]
     },
     "execution_count": 4,
     "metadata": {},
     "output_type": "execute_result"
    }
   ],
   "source": [
    "pl.uname()"
   ]
  },
  {
   "cell_type": "code",
   "execution_count": 5,
   "id": "a2001e0e",
   "metadata": {},
   "outputs": [],
   "source": [
    "import IPython"
   ]
  },
  {
   "cell_type": "code",
   "execution_count": 6,
   "id": "ccff39ec",
   "metadata": {},
   "outputs": [
    {
     "data": {
      "text/plain": [
       "<module 'IPython.display' from 'C:\\\\Users\\\\morio\\\\AppData\\\\Local\\\\Programs\\\\Python\\\\Python310\\\\lib\\\\site-packages\\\\IPython\\\\display.py'>"
      ]
     },
     "execution_count": 6,
     "metadata": {},
     "output_type": "execute_result"
    }
   ],
   "source": [
    "IPython.display"
   ]
  },
  {
   "cell_type": "code",
   "execution_count": 7,
   "id": "3c2e2fa3",
   "metadata": {},
   "outputs": [],
   "source": [
    "def fib (n):\n",
    "    if n in {0,1}:\n",
    "        return 1\n",
    "    else:\n",
    "       return (fib(n-1)+fib(n-2))"
   ]
  },
  {
   "cell_type": "code",
   "execution_count": 8,
   "id": "35bc234f",
   "metadata": {},
   "outputs": [
    {
     "data": {
      "text/plain": [
       "5"
      ]
     },
     "execution_count": 8,
     "metadata": {},
     "output_type": "execute_result"
    }
   ],
   "source": [
    "fib (4)"
   ]
  },
  {
   "cell_type": "code",
   "execution_count": 9,
   "id": "b3f3e82c",
   "metadata": {},
   "outputs": [
    {
     "data": {
      "text/plain": [
       "10946"
      ]
     },
     "execution_count": 9,
     "metadata": {},
     "output_type": "execute_result"
    }
   ],
   "source": [
    "fib(20)"
   ]
  },
  {
   "cell_type": "code",
   "execution_count": null,
   "id": "0b5d48f5",
   "metadata": {},
   "outputs": [],
   "source": []
  }
 ],
 "metadata": {
  "kernelspec": {
   "display_name": "Python 3 (ipykernel)",
   "language": "python",
   "name": "python3"
  },
  "language_info": {
   "codemirror_mode": {
    "name": "ipython",
    "version": 3
   },
   "file_extension": ".py",
   "mimetype": "text/x-python",
   "name": "python",
   "nbconvert_exporter": "python",
   "pygments_lexer": "ipython3",
   "version": "3.10.7"
  }
 },
 "nbformat": 4,
 "nbformat_minor": 5
}
