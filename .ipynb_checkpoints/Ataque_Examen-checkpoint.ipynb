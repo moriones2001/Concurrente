{
 "cells": [
  {
   "cell_type": "markdown",
   "id": "f79a33fb-6cc1-4c7a-a275-e38d78b92ffe",
   "metadata": {},
   "source": [
    "<!-- PROFILE LINK -->\n",
    "\n",
    "<h1 style = \"text-align:center; font-size: 30px\">PROGRAMACIÓN CONCURRENTE Y DISTRIBUIDA</h1>\n",
    "<a href =\"https://github.com/moriones2001\">\n",
    "<img src=\"https://avatars.githubusercontent.com/u/100123414?v=4\" style=\"float:left;vertical-align:centre\" width=\"110\" height=\"110\" title = \"Iván García Moriones 21907762\">\n",
    "<a href =\"https://github.com/moriones2001?tab=repositories\">\n",
    "<img src=\"https://media-exp1.licdn.com/dms/image/C4D0BAQEu_Aa76fcmPw/company-logo_200_200/0/1630998679429?e=2159024400&v=beta&t=2feC9GG7RWCWizTqsK5HzDWB1TL2DOQuAVwnMf6FFvk\" title = \"M41\" alt=\"UE\" width=\"110\" height=\"110\" style=\"float:right;vertical-align:centre\">"
   ]
  },
  {
   "cell_type": "markdown",
   "id": "c999c3ef-03bc-4599-9c38-5ae4b4208ef9",
   "metadata": {},
   "source": [
    "## ATACAR A JAIME"
   ]
  },
  {
   "cell_type": "code",
   "execution_count": null,
   "id": "ef1a2adb-48ba-430d-8ebe-7477573a52ad",
   "metadata": {},
   "outputs": [],
   "source": [
    "import threading, os,platform,requests,json"
   ]
  },
  {
   "cell_type": "code",
   "execution_count": null,
   "id": "f0bed6a6-c522-45a8-adab-176fdad7fea5",
   "metadata": {},
   "outputs": [],
   "source": [
    "numero_de_veces_hasta_matar_Jaime = 100"
   ]
  },
  {
   "cell_type": "code",
   "execution_count": 25,
   "id": "acf65736-f6e1-4c15-abb2-f32caee25e87",
   "metadata": {},
   "outputs": [],
   "source": [
    "ipJaime = \"https://github.com/jaiimeegomezz\""
   ]
  },
  {
   "cell_type": "code",
   "execution_count": 4,
   "id": "601bf0c7-7e33-4964-a4b0-6b376c7af269",
   "metadata": {},
   "outputs": [],
   "source": [
    "def matar_Jaime():\n",
    "    print (requests.get(ipJaime))\n",
    "    threading.current_thread()"
   ]
  },
  {
   "cell_type": "code",
   "execution_count": 32,
   "id": "c41beedb-0218-464b-aae7-caf6257afdc6",
   "metadata": {},
   "outputs": [
    {
     "name": "stdout",
     "output_type": "stream",
     "text": [
      "<Response [200]>\n",
      "<Response [200]>\n",
      "<Response [200]>\n",
      "<Response [200]>\n"
     ]
    },
    {
     "name": "stderr",
     "output_type": "stream",
     "text": [
      "\n",
      "KeyboardInterrupt\n",
      "\n"
     ]
    }
   ],
   "source": [
    "for i in range (numero_de_veces_hasta_matar_Jaime):\n",
    "    threading.Thread(target=matar_Jaime()).start()\n"
   ]
  },
  {
   "cell_type": "markdown",
   "id": "914aba75-80d9-4e69-a23c-fa6171b616f6",
   "metadata": {},
   "source": [
    "## DESCARGAS"
   ]
  },
  {
   "cell_type": "code",
   "execution_count": 36,
   "id": "77f58a3d-66cf-4033-b64f-fc07174bd6f0",
   "metadata": {},
   "outputs": [],
   "source": [
    "import time,urllib.request, multiprocessing as mp, concurrent.futures "
   ]
  },
  {
   "cell_type": "code",
   "execution_count": 44,
   "id": "321a3739-88f9-47a3-a83f-c7cfe10d1927",
   "metadata": {},
   "outputs": [],
   "source": [
    "def _download_image (image_number):\n",
    "    print (image_number)\n",
    "    image_url = 'https://drive.google.com/uc?export=download&id=1ADxSr55eYTRSRF-44LXnKbY4n5bMWaY-'.format(image_number)\n",
    "    try:\n",
    "        with urllib.request.urlopen(image_url,timeout=60) as conn:\n",
    "            return len (conn.read())\n",
    "    except urllib.error.HTTPError:\n",
    "        print ('Oh god', image_number)\n",
    "    except Exception as e:\n",
    "        print(e)"
   ]
  },
  {
   "cell_type": "code",
   "execution_count": 40,
   "id": "a3a64a92-309e-4b41-a00e-467c3a19258e",
   "metadata": {},
   "outputs": [],
   "source": [
    "def par_download_images(image_numbers):\n",
    "    total_bytes=0\n",
    "    with concurrent.futures.ThreadPoolExecutor() as pool:\n",
    "        futures=[pool.submit(_download_image,num) for num in image_numbers]\n",
    "        for f in concurrent.futures.as_completed(futures):\n",
    "            total_bytes+=f.result()\n",
    "    return total_bytes\n",
    "        "
   ]
  },
  {
   "cell_type": "code",
   "execution_count": 52,
   "id": "7da4106c-c343-4349-9086-ce8e0b58bbf2",
   "metadata": {},
   "outputs": [
    {
     "name": "stdout",
     "output_type": "stream",
     "text": [
      "0\n",
      "1\n",
      "2\n",
      "3\n",
      "4\n",
      "1\n",
      "Oh god 1\n"
     ]
    },
    {
     "ename": "TypeError",
     "evalue": "unsupported operand type(s) for +=: 'int' and 'NoneType'",
     "output_type": "error",
     "traceback": [
      "\u001b[1;31m---------------------------------------------------------------------------\u001b[0m",
      "\u001b[1;31mTypeError\u001b[0m                                 Traceback (most recent call last)",
      "Cell \u001b[1;32mIn [52], line 7\u001b[0m\n\u001b[0;32m      5\u001b[0m     \u001b[38;5;28mprint\u001b[39m (i)\n\u001b[0;32m      6\u001b[0m     start \u001b[38;5;241m=\u001b[39m time\u001b[38;5;241m.\u001b[39mperf_counter()\n\u001b[1;32m----> 7\u001b[0m pararell_result \u001b[38;5;241m=\u001b[39m \u001b[43mpar_download_images\u001b[49m\u001b[43m(\u001b[49m\u001b[43mIMAGE_NUMBERS\u001b[49m\u001b[43m)\u001b[49m\n\u001b[0;32m      8\u001b[0m pararell_time\u001b[38;5;241m=\u001b[39m\u001b[38;5;241m0\u001b[39m\n\u001b[0;32m      9\u001b[0m \u001b[38;5;28;01mfor\u001b[39;00m i \u001b[38;5;129;01min\u001b[39;00m \u001b[38;5;28mrange\u001b[39m (NUM_EVAL_RUNS):\n",
      "Cell \u001b[1;32mIn [40], line 6\u001b[0m, in \u001b[0;36mpar_download_images\u001b[1;34m(image_numbers)\u001b[0m\n\u001b[0;32m      4\u001b[0m     futures\u001b[38;5;241m=\u001b[39m[pool\u001b[38;5;241m.\u001b[39msubmit(_download_image,num) \u001b[38;5;28;01mfor\u001b[39;00m num \u001b[38;5;129;01min\u001b[39;00m image_numbers]\n\u001b[0;32m      5\u001b[0m     \u001b[38;5;28;01mfor\u001b[39;00m f \u001b[38;5;129;01min\u001b[39;00m concurrent\u001b[38;5;241m.\u001b[39mfutures\u001b[38;5;241m.\u001b[39mas_completed(futures):\n\u001b[1;32m----> 6\u001b[0m         total_bytes\u001b[38;5;241m+\u001b[39m\u001b[38;5;241m=\u001b[39mf\u001b[38;5;241m.\u001b[39mresult()\n\u001b[0;32m      7\u001b[0m \u001b[38;5;28;01mreturn\u001b[39;00m total_bytes\n",
      "\u001b[1;31mTypeError\u001b[0m: unsupported operand type(s) for +=: 'int' and 'NoneType'"
     ]
    }
   ],
   "source": [
    "if __name__ == '__main__':\n",
    "    NUM_EVAL_RUNS=5\n",
    "    IMAGE_NUMBERS = list (range(1,2))\n",
    "    for i in range(NUM_EVAL_RUNS):\n",
    "        print (i)\n",
    "        start = time.perf_counter()\n",
    "    pararell_result = par_download_images(IMAGE_NUMBERS)\n",
    "    pararell_time=0\n",
    "    for i in range (NUM_EVAL_RUNS):\n",
    "        start=time.perf_counter()\n",
    "        par_download_images(IMAGE_NUMBERS)\n",
    "        pararell_time += time.perf_counter() -start\n",
    "    pararell_time /= NUM_EVAL_RUNS\n",
    "    "
   ]
  },
  {
   "cell_type": "code",
   "execution_count": null,
   "id": "6cca97d7-58fa-4e80-b47b-01ff3336b103",
   "metadata": {},
   "outputs": [],
   "source": []
  }
 ],
 "metadata": {
  "kernelspec": {
   "display_name": "Python 3 (ipykernel)",
   "language": "python",
   "name": "python3"
  },
  "language_info": {
   "codemirror_mode": {
    "name": "ipython",
    "version": 3
   },
   "file_extension": ".py",
   "mimetype": "text/x-python",
   "name": "python",
   "nbconvert_exporter": "python",
   "pygments_lexer": "ipython3",
   "version": "3.10.7"
  }
 },
 "nbformat": 4,
 "nbformat_minor": 5
}
